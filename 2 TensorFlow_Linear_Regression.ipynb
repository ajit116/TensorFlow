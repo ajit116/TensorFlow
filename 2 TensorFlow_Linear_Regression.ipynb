{
 "cells": [
  {
   "cell_type": "markdown",
   "metadata": {},
   "source": [
    "# Linear Regression in TensorFlow"
   ]
  },
  {
   "cell_type": "code",
   "execution_count": 1,
   "metadata": {},
   "outputs": [],
   "source": [
    "import tensorflow as tf\n",
    "import numpy\n",
    "import matplotlib.pyplot as plt\n",
    "rng = numpy.random"
   ]
  },
  {
   "cell_type": "code",
   "execution_count": 2,
   "metadata": {},
   "outputs": [],
   "source": [
    "# Parameters\n",
    "learning_rate = 0.01\n",
    "training_epochs = 2000\n",
    "display_step = 50"
   ]
  },
  {
   "cell_type": "code",
   "execution_count": 3,
   "metadata": {},
   "outputs": [],
   "source": [
    "# Training Data\n",
    "train_X = numpy.asarray([3.3,4.4,5.5,6.71,6.93,4.168,9.779,6.182,7.59,2.167,7.042,10.791,5.313,7.997,5.654,9.27,3.1])\n",
    "train_Y = numpy.asarray([1.7,2.76,2.09,3.19,1.694,1.573,3.366,2.596,2.53,1.221,2.827,3.465,1.65,2.904,2.42,2.94,1.3])\n",
    "n_samples = train_X.shape[0]"
   ]
  },
  {
   "cell_type": "code",
   "execution_count": 4,
   "metadata": {},
   "outputs": [],
   "source": [
    "# tf Graph Input\n",
    "X = tf.placeholder(\"float\")\n",
    "Y = tf.placeholder(\"float\")"
   ]
  },
  {
   "cell_type": "markdown",
   "metadata": {},
   "source": [
    "### Create model"
   ]
  },
  {
   "cell_type": "code",
   "execution_count": 5,
   "metadata": {},
   "outputs": [],
   "source": [
    "# set model weights\n",
    "W = tf.Variable(rng.randn() , name=\"weight\")\n",
    "b = tf.Variable(rng.randn() , name=\"bias\")"
   ]
  },
  {
   "cell_type": "code",
   "execution_count": 6,
   "metadata": {},
   "outputs": [],
   "source": [
    "# Construct a linear model\n",
    "activation = tf.add(tf.multiply(X, W), b)"
   ]
  },
  {
   "cell_type": "code",
   "execution_count": 7,
   "metadata": {},
   "outputs": [],
   "source": [
    "# Minimize the squared errors\n",
    "cost = tf.reduce_sum(tf.pow(activation-Y, 2))/(2*n_samples) #L2 loss\n",
    "optimizer = tf.train.GradientDescentOptimizer(learning_rate).minimize(cost) #Gradient descent"
   ]
  },
  {
   "cell_type": "code",
   "execution_count": 8,
   "metadata": {},
   "outputs": [
    {
     "name": "stdout",
     "output_type": "stream",
     "text": [
      "WARNING:tensorflow:From c:\\python36\\lib\\site-packages\\tensorflow\\python\\util\\tf_should_use.py:118: initialize_all_variables (from tensorflow.python.ops.variables) is deprecated and will be removed after 2017-03-02.\n",
      "Instructions for updating:\n",
      "Use `tf.global_variables_initializer` instead.\n"
     ]
    }
   ],
   "source": [
    "# Initializing the variables\n",
    "init = tf.initialize_all_variables()"
   ]
  },
  {
   "cell_type": "code",
   "execution_count": 9,
   "metadata": {},
   "outputs": [
    {
     "name": "stdout",
     "output_type": "stream",
     "text": [
      "Epoch: 0001 cost= 8.193725586 W= 0.045433223 b= -1.9168326\n",
      "Epoch: 0051 cost= 0.457572669 W= 0.59434617 b= -1.6786582\n",
      "Epoch: 0101 cost= 0.413619965 W= 0.57384187 b= -1.5311527\n",
      "Epoch: 0151 cost= 0.374741524 W= 0.55455714 b= -1.3924199\n",
      "Epoch: 0201 cost= 0.340352148 W= 0.5364197 b= -1.2619399\n",
      "Epoch: 0251 cost= 0.309932917 W= 0.51936054 b= -1.1392184\n",
      "Epoch: 0301 cost= 0.283026367 W= 0.5033165 b= -1.0237982\n",
      "Epoch: 0351 cost= 0.259225905 W= 0.4882262 b= -0.9152398\n",
      "Epoch: 0401 cost= 0.238173962 W= 0.47403377 b= -0.81314\n",
      "Epoch: 0451 cost= 0.219552681 W= 0.46068525 b= -0.7171116\n",
      "Epoch: 0501 cost= 0.203081757 W= 0.44813067 b= -0.626795\n",
      "Epoch: 0551 cost= 0.188512698 W= 0.4363227 b= -0.5418492\n",
      "Epoch: 0601 cost= 0.175626174 W= 0.42521703 b= -0.46195626\n",
      "Epoch: 0651 cost= 0.164227843 W= 0.41477197 b= -0.38681492\n",
      "Epoch: 0701 cost= 0.154145792 W= 0.404948 b= -0.31614193\n",
      "Epoch: 0751 cost= 0.145228162 W= 0.3957083 b= -0.24967241\n",
      "Epoch: 0801 cost= 0.137340531 W= 0.38701814 b= -0.18715604\n",
      "Epoch: 0851 cost= 0.130363986 W= 0.37884486 b= -0.12835813\n",
      "Epoch: 0901 cost= 0.124193259 W= 0.37115762 b= -0.073056914\n",
      "Epoch: 0951 cost= 0.118735358 W= 0.36392766 b= -0.021044854\n",
      "Epoch: 1001 cost= 0.113907985 W= 0.3571277 b= 0.027873786\n",
      "Epoch: 1051 cost= 0.109638281 W= 0.35073215 b= 0.07388294\n",
      "Epoch: 1101 cost= 0.105861939 W= 0.34471697 b= 0.11715582\n",
      "Epoch: 1151 cost= 0.102521904 W= 0.3390594 b= 0.15785523\n",
      "Epoch: 1201 cost= 0.099567838 W= 0.33373848 b= 0.19613379\n",
      "Epoch: 1251 cost= 0.096955143 W= 0.32873395 b= 0.23213588\n",
      "Epoch: 1301 cost= 0.094644383 W= 0.32402718 b= 0.26599663\n",
      "Epoch: 1351 cost= 0.092600726 W= 0.31960022 b= 0.29784372\n",
      "Epoch: 1401 cost= 0.090793319 W= 0.31543663 b= 0.32779628\n",
      "Epoch: 1451 cost= 0.089194842 W= 0.31152058 b= 0.3559677\n",
      "Epoch: 1501 cost= 0.087781169 W= 0.30783758 b= 0.38246363\n",
      "Epoch: 1551 cost= 0.086530931 W= 0.30437338 b= 0.40738422\n",
      "Epoch: 1601 cost= 0.085425310 W= 0.30111548 b= 0.4308219\n",
      "Epoch: 1651 cost= 0.084447563 W= 0.29805112 b= 0.4528663\n",
      "Epoch: 1701 cost= 0.083582886 W= 0.2951691 b= 0.47359958\n",
      "Epoch: 1751 cost= 0.082818262 W= 0.29245847 b= 0.49309945\n",
      "Epoch: 1801 cost= 0.082142174 W= 0.28990918 b= 0.51143855\n",
      "Epoch: 1851 cost= 0.081544295 W= 0.28751165 b= 0.528687\n",
      "Epoch: 1901 cost= 0.081015557 W= 0.2852564 b= 0.544911\n",
      "Epoch: 1951 cost= 0.080548070 W= 0.2831353 b= 0.56016994\n",
      "Optimization Finished!\n",
      "cost= 0.080142476 W= 0.28117904 b= 0.57424325\n"
     ]
    },
    {
     "data": {
      "image/png": "[encoded data removed]",
      "text/plain": [
       "<Figure size 432x288 with 1 Axes>"
      ]
     },
     "metadata": {},
     "output_type": "display_data"
    }
   ],
   "source": [
    "# Launch the graph\n",
    "with tf.Session() as sess:\n",
    "    sess.run(init)\n",
    "\n",
    "    # Fit all training data\n",
    "    for epoch in range(training_epochs):\n",
    "        for (x, y) in zip(train_X, train_Y):\n",
    "            sess.run(optimizer, feed_dict={X: x, Y: y})\n",
    "\n",
    "        #Display logs per epoch step\n",
    "        if epoch % display_step == 0:\n",
    "            print(\"Epoch:\", '%04d' % (epoch+1), \"cost=\",\"{:.9f}\".format(sess.run(cost, feed_dict={X: train_X, Y:train_Y})),\"W=\", sess.run(W), \"b=\", sess.run(b))\n",
    "\n",
    "    print (\"Optimization Finished!\")\n",
    "    print (\"cost=\", sess.run(cost, feed_dict={X: train_X, Y: train_Y}),\"W=\", sess.run(W), \"b=\", sess.run(b))\n",
    "\n",
    "    #Graphic display\n",
    "    plt.plot(train_X, train_Y, 'ro', label='Original data')\n",
    "    plt.plot(train_X, sess.run(W) * train_X + sess.run(b), label='Fitted line')\n",
    "    plt.legend()\n",
    "    plt.show()"
   ]
  },
  {
   "cell_type": "code",
   "execution_count": null,
   "metadata": {},
   "outputs": [],
   "source": []
  },
  {
   "cell_type": "code",
   "execution_count": null,
   "metadata": {},
   "outputs": [],
   "source": []
  },
  {
   "cell_type": "code",
   "execution_count": null,
   "metadata": {},
   "outputs": [],
   "source": []
  },
  {
   "cell_type": "code",
   "execution_count": null,
   "metadata": {},
   "outputs": [],
   "source": []
  }
 ],
 "metadata": {
  "kernelspec": {
   "display_name": "Python 3",
   "language": "python",
   "name": "python3"
  },
  "language_info": {
   "codemirror_mode": {
    "name": "ipython",
    "version": 3
   },
   "file_extension": ".py",
   "mimetype": "text/x-python",
   "name": "python",
   "nbconvert_exporter": "python",
   "pygments_lexer": "ipython3",
   "version": "3.6.6"
  }
 },
 "nbformat": 4,
 "nbformat_minor": 2
}
